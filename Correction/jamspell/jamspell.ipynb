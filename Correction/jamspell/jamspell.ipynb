{
  "nbformat": 4,
  "nbformat_minor": 0,
  "metadata": {
    "colab": {
      "name": "jamspell.ipynb",
      "provenance": [],
      "collapsed_sections": []
    },
    "kernelspec": {
      "name": "python3",
      "display_name": "Python 3"
    }
  },
  "cells": [
    {
      "cell_type": "markdown",
      "source": [
        "##  **`jamspell`** : librairie de correction d'orthographe contextuelle\n",
        "* écrite en C++\n",
        "* <u>prérequis</u> : installer les _bindings_ `swig` \n",
        "  * compilateur d'interface qui connecte des programmes écrits en C++ avec, en l'occurrence, le langage Python\n",
        "* instructions d'installation en local -> [GitHub](https://github.com/bakwc/JamSpell/#usage)\n",
        "  * pour contourner les problèmes d'installation potentiels du `swig` et, par conséquent, de `jamspell`, envisagez à utiliser Colab"
      ],
      "metadata": {
        "id": "Hoqpo17hlWIk"
      }
    },
    {
      "cell_type": "markdown",
      "source": [
        "### Installer `swig` "
      ],
      "metadata": {
        "id": "iMDxN9OTgB5n"
      }
    },
    {
      "cell_type": "code",
      "metadata": {
        "id": "CZJKcGFUXboA",
        "outputId": "14347325-d330-49c9-967a-532c213dc267",
        "colab": {
          "base_uri": "https://localhost:8080/"
        }
      },
      "source": [
        "!sudo apt-get install swig"
      ],
      "execution_count": 1,
      "outputs": [
        {
          "output_type": "stream",
          "name": "stdout",
          "text": [
            "Reading package lists... Done\n",
            "Building dependency tree       \n",
            "Reading state information... Done\n",
            "The following additional packages will be installed:\n",
            "  swig3.0\n",
            "Suggested packages:\n",
            "  swig-doc swig-examples swig3.0-examples swig3.0-doc\n",
            "The following NEW packages will be installed:\n",
            "  swig swig3.0\n",
            "0 upgraded, 2 newly installed, 0 to remove and 39 not upgraded.\n",
            "Need to get 1,100 kB of archives.\n",
            "After this operation, 5,822 kB of additional disk space will be used.\n",
            "Get:1 http://archive.ubuntu.com/ubuntu bionic/universe amd64 swig3.0 amd64 3.0.12-1 [1,094 kB]\n",
            "Get:2 http://archive.ubuntu.com/ubuntu bionic/universe amd64 swig amd64 3.0.12-1 [6,460 B]\n",
            "Fetched 1,100 kB in 0s (7,578 kB/s)\n",
            "debconf: unable to initialize frontend: Dialog\n",
            "debconf: (No usable dialog-like program is installed, so the dialog based frontend cannot be used. at /usr/share/perl5/Debconf/FrontEnd/Dialog.pm line 76, <> line 2.)\n",
            "debconf: falling back to frontend: Readline\n",
            "debconf: unable to initialize frontend: Readline\n",
            "debconf: (This frontend requires a controlling tty.)\n",
            "debconf: falling back to frontend: Teletype\n",
            "dpkg-preconfigure: unable to re-open stdin: \n",
            "Selecting previously unselected package swig3.0.\n",
            "(Reading database ... 155335 files and directories currently installed.)\n",
            "Preparing to unpack .../swig3.0_3.0.12-1_amd64.deb ...\n",
            "Unpacking swig3.0 (3.0.12-1) ...\n",
            "Selecting previously unselected package swig.\n",
            "Preparing to unpack .../swig_3.0.12-1_amd64.deb ...\n",
            "Unpacking swig (3.0.12-1) ...\n",
            "Setting up swig3.0 (3.0.12-1) ...\n",
            "Setting up swig (3.0.12-1) ...\n",
            "Processing triggers for man-db (2.8.3-2ubuntu0.1) ...\n"
          ]
        }
      ]
    },
    {
      "cell_type": "markdown",
      "source": [
        "### Installer `jamspell`"
      ],
      "metadata": {
        "id": "YyM94dIRXdlt"
      }
    },
    {
      "cell_type": "code",
      "metadata": {
        "id": "aUmiFaYIXiWu",
        "outputId": "5bc97774-2875-4575-cee9-c45136144972",
        "colab": {
          "base_uri": "https://localhost:8080/"
        }
      },
      "source": [
        "!sudo pip install jamspell"
      ],
      "execution_count": 2,
      "outputs": [
        {
          "output_type": "stream",
          "name": "stdout",
          "text": [
            "Collecting jamspell\n",
            "  Downloading jamspell-0.0.12.tar.gz (174 kB)\n",
            "\u001b[?25l\r\u001b[K     |█▉                              | 10 kB 20.6 MB/s eta 0:00:01\r\u001b[K     |███▊                            | 20 kB 26.8 MB/s eta 0:00:01\r\u001b[K     |█████▋                          | 30 kB 32.0 MB/s eta 0:00:01\r\u001b[K     |███████▌                        | 40 kB 22.2 MB/s eta 0:00:01\r\u001b[K     |█████████▍                      | 51 kB 16.4 MB/s eta 0:00:01\r\u001b[K     |███████████▎                    | 61 kB 18.1 MB/s eta 0:00:01\r\u001b[K     |█████████████▏                  | 71 kB 19.9 MB/s eta 0:00:01\r\u001b[K     |███████████████                 | 81 kB 17.9 MB/s eta 0:00:01\r\u001b[K     |█████████████████               | 92 kB 19.2 MB/s eta 0:00:01\r\u001b[K     |██████████████████▉             | 102 kB 19.5 MB/s eta 0:00:01\r\u001b[K     |████████████████████▊           | 112 kB 19.5 MB/s eta 0:00:01\r\u001b[K     |██████████████████████▋         | 122 kB 19.5 MB/s eta 0:00:01\r\u001b[K     |████████████████████████▍       | 133 kB 19.5 MB/s eta 0:00:01\r\u001b[K     |██████████████████████████▎     | 143 kB 19.5 MB/s eta 0:00:01\r\u001b[K     |████████████████████████████▏   | 153 kB 19.5 MB/s eta 0:00:01\r\u001b[K     |██████████████████████████████  | 163 kB 19.5 MB/s eta 0:00:01\r\u001b[K     |████████████████████████████████| 174 kB 19.5 MB/s eta 0:00:01\r\u001b[K     |████████████████████████████████| 174 kB 19.5 MB/s \n",
            "\u001b[?25hBuilding wheels for collected packages: jamspell\n",
            "  Building wheel for jamspell (setup.py) ... \u001b[?25l\u001b[?25hdone\n",
            "  Created wheel for jamspell: filename=jamspell-0.0.12-cp37-cp37m-linux_x86_64.whl size=1347665 sha256=a3f860f0500a503055dabc522476018f1e8b8902a41779de96ee83e2fa294921\n",
            "  Stored in directory: /root/.cache/pip/wheels/68/df/9c/9b335e69aa0f28e7f508ec0ebefadcc703f168beb52ae7ebe7\n",
            "Successfully built jamspell\n",
            "Installing collected packages: jamspell\n",
            "Successfully installed jamspell-0.0.12\n"
          ]
        }
      ]
    },
    {
      "cell_type": "markdown",
      "source": [
        "### Télécharger le modèle de langue français\n",
        "* corpus d'actualités (300 000 phrases) + 300 000 phrases de wikipedia\n"
      ],
      "metadata": {
        "id": "GzrSZGO7XmAx"
      }
    },
    {
      "cell_type": "code",
      "metadata": {
        "id": "OK1HqdSbXpQ7",
        "outputId": "67118fe5-b609-470a-c7cd-25fd45ba3e1d",
        "colab": {
          "base_uri": "https://localhost:8080/"
        }
      },
      "source": [
        "!wget https://github.com/bakwc/JamSpell-models/raw/master/fr.tar.gz"
      ],
      "execution_count": 4,
      "outputs": [
        {
          "output_type": "stream",
          "name": "stdout",
          "text": [
            "--2022-03-24 14:52:11--  https://github.com/bakwc/JamSpell-models/raw/master/fr.tar.gz\n",
            "Resolving github.com (github.com)... 140.82.113.4\n",
            "Connecting to github.com (github.com)|140.82.113.4|:443... connected.\n",
            "HTTP request sent, awaiting response... 302 Found\n",
            "Location: https://raw.githubusercontent.com/bakwc/JamSpell-models/master/fr.tar.gz [following]\n",
            "--2022-03-24 14:52:12--  https://raw.githubusercontent.com/bakwc/JamSpell-models/master/fr.tar.gz\n",
            "Resolving raw.githubusercontent.com (raw.githubusercontent.com)... 185.199.108.133, 185.199.109.133, 185.199.110.133, ...\n",
            "Connecting to raw.githubusercontent.com (raw.githubusercontent.com)|185.199.108.133|:443... connected.\n",
            "HTTP request sent, awaiting response... 200 OK\n",
            "Length: 32421326 (31M) [application/octet-stream]\n",
            "Saving to: ‘fr.tar.gz’\n",
            "\n",
            "fr.tar.gz           100%[===================>]  30.92M   194MB/s    in 0.2s    \n",
            "\n",
            "2022-03-24 14:52:12 (194 MB/s) - ‘fr.tar.gz’ saved [32421326/32421326]\n",
            "\n"
          ]
        }
      ]
    },
    {
      "cell_type": "markdown",
      "source": [
        "* <u>recommandation</u> : entraîner son propre modèle (selon les [instructions](https://github.com/bakwc/JamSpell/#train)) au moins sur quelques millions de phrases pour obtenir une meilleure qualité"
      ],
      "metadata": {
        "id": "73GiN979ZM6J"
      }
    },
    {
      "cell_type": "markdown",
      "source": [
        "### Décompresser le fichier `tar` :"
      ],
      "metadata": {
        "id": "1iHvpv5QZ_ca"
      }
    },
    {
      "cell_type": "code",
      "metadata": {
        "id": "S70BPvsUX7lw",
        "outputId": "869798a9-f29a-468b-ffe6-5501426475e4",
        "colab": {
          "base_uri": "https://localhost:8080/"
        }
      },
      "source": [
        "!tar -xvf fr.tar.gz"
      ],
      "execution_count": 5,
      "outputs": [
        {
          "output_type": "stream",
          "name": "stdout",
          "text": [
            "fr.bin\n"
          ]
        }
      ]
    },
    {
      "cell_type": "markdown",
      "metadata": {
        "id": "uHwpolmcYXew"
      },
      "source": [
        "### Faire une première démo :\n"
      ]
    },
    {
      "cell_type": "code",
      "metadata": {
        "id": "LAZyrWFPYDHF",
        "colab": {
          "base_uri": "https://localhost:8080/",
          "height": 37
        },
        "outputId": "b906f80c-2d39-471f-fafb-90de909030dc"
      },
      "source": [
        "import jamspell \n",
        "\n",
        "jsp = jamspell.TSpellCorrector()   # initialiser le correcteur\n",
        "assert jsp.LoadLangModel('fr.bin') # spécifier le modèle de langue\n",
        "\n",
        "jsp.FixFragment(\"Bnojour, cecci est un tutorie\")"
      ],
      "execution_count": 15,
      "outputs": [
        {
          "output_type": "execute_result",
          "data": {
            "text/plain": [
              "'Bonjour, ceci est un tutoriel'"
            ],
            "application/vnd.google.colaboratory.intrinsic+json": {
              "type": "string"
            }
          },
          "metadata": {},
          "execution_count": 15
        }
      ]
    },
    {
      "cell_type": "markdown",
      "source": [
        "### Créer trois dossiers où : \n",
        "* `sample_in` : données d'entrée (texte à corriger)\n",
        "* `sample_out` : données de sortie (texte corrigé)\n",
        "* `csv` : tableur .csv avec les mots orthographiquement incorrects, leurs corrections et les fréquences d'apparence des erreurs\n",
        "\n",
        "\n",
        "Ensuite, importer les fichiers à corriger et les mettre dans `sample_in`."
      ],
      "metadata": {
        "id": "xvakcEz8wuaC"
      }
    },
    {
      "cell_type": "code",
      "source": [
        "newpath = r'/content/drive/MyDrive/sample_in' \n",
        "if not os.path.exists(newpath):\n",
        "    os.makedirs(newpath)\n",
        "\n",
        "newpath2 = r'/content/drive/MyDrive/sample_out' \n",
        "if not os.path.exists(newpath2):\n",
        "    os.makedirs(newpath2)\n",
        "\n",
        "newpath3 = r'/content/drive/MyDrive/csv' \n",
        "if not os.path.exists(newpath3):\n",
        "    os.makedirs(newpath3)"
      ],
      "metadata": {
        "id": "x1v_BZ93wsjT"
      },
      "execution_count": 8,
      "outputs": []
    },
    {
      "cell_type": "markdown",
      "source": [
        "### Passer à la correction des sorties d'OCR"
      ],
      "metadata": {
        "id": "-W7fQVy5Byh7"
      }
    },
    {
      "cell_type": "code",
      "metadata": {
        "id": "NOqWwqBLYTSt"
      },
      "source": [
        "# importer les librairies nécessaires\n",
        "import os, re, glob, csv\n",
        "from lxml import etree\n",
        "\n",
        "\n",
        "# ignorer les fichiers cachés dans le directoire avec les docs d'entrée (p. ex. le '._5419000_r.xml') \n",
        "def listdir_nohidden(path):\n",
        "    return glob.glob(os.path.join(path, '*'))\n",
        "\n",
        "\n",
        "# spécifier les docs d'entrée (échantillon) à partir desquels les sorties corrigées seront générées\n",
        "directory_in = listdir_nohidden(\"./sample_in/\")\n",
        "\n",
        "\n",
        "# enlever l'extension .xml des fichiers d'entrée \n",
        "for file_in in directory_in:\n",
        "    tree = etree.parse(file_in)\n",
        "    root = tree.getroot()\n",
        "    file_in = os.path.basename(file_in)\n",
        "    file_in = os.path.splitext(file_in)[0]\n",
        "    # print(file_in) # 5419000_r, test\n",
        "    \n",
        "\n",
        "    # créer les nouveaux fichiers .txt sur lesquels les corrections seront appliquées par la suite\n",
        "    file_out = '{}'.format(file_in)+'.txt'\n",
        "    # print(file_out) # 5419000_r.txt, test.txt\n",
        "    directory_out = os.path.join(\"./sample_out/\", file_out)\n",
        "    \n",
        "    \n",
        "    # créer les nouveaux fichiers .csv où les erreurs avec leurs corrections seront enregistrées\n",
        "    corr_out = os.path.join('./csv/', file_in+'.csv')\n",
        "    \n",
        "\n",
        "    # générer un tableur .csv où les erreurs, les corrections et les fréquences d'erreurs seront stockées\n",
        "    with open(directory_out, 'w') as f, open(corr_out, 'w') as fout:\n",
        "      writer = csv.writer(fout)\n",
        "      writer.writerow([\"Erreur\"'\\t' \"Correction\"'\\t' \"Fréquence\"'\\t']) \n",
        "        \n",
        "    \n",
        "    # enlever les balises XML afin de transférer le contenu des fichiers .xml dans les fichiers .txt\n",
        "\n",
        "\n",
        "      for elem in root.iter('*'):\n",
        "            if elem.text is not None:\n",
        "                text = elem.text.strip()\n",
        "                if elem.tail is not None:\n",
        "                    text = elem.text.strip() + str(elem.tail) # pour récupérer le texte dans la balise imbriquée\n",
        "                                                               # ex : par le moyen des <hi rend=\"i\">emblèmes</hi>,\n",
        "                    \n",
        "                    # pré-traitements\n",
        "                    text = re.sub('&', 'et', text) # l'esperluette '&' signifie 'et'\n",
        "                    text = re.sub('« \\n', '', text) # pour concaténer les mots séparés par un trait d'union \n",
        "                                                    # (sous forme d'un guillemet français ouvert)\n",
        "                    text = re.sub(\" +\", \" \", text)  # réduire les espaces multiples en un seul espace\n",
        "                    text = text.lower() # conversion en minuscules\n",
        "                    text = text.replace(\"\\n\", \" \") # pour que chaque ligne commence depuis le tout début, \n",
        "                                                   # et non pas après un espace\n",
        "                    \n",
        "                    # remplacer le guillemet simple par un guillemet français, pour éviter le problème de parsing \n",
        "                    text = text.replace(\"'\", \"’\") \n",
        "                    \n",
        "                    # effacer l'espace avant certains caractères spéciaux\n",
        "                    text = text.replace(' ,', ',') \n",
        "                    text = text.replace(' .','. ')\n",
        "                    text = text.replace(' :',':')\n",
        "                    text = text.replace(' ;',';')\n",
        "                    text = text.replace(' !','!')\n",
        "                    text = re.sub('\\s\\?','?', text)\n",
        "                    text = text.replace(' \"','\"')\n",
        "                    text = text.replace('( ','(')\n",
        "                    text = text.replace(' )',')') \n",
        "                    text = text.replace(' –','-')\n",
        "                    \n",
        "                    # remplacer les tirets moyens et longs par les tirets courts \n",
        "                    text = text.replace('–', '-') \n",
        "                    \n",
        "                    \n",
        "                    # enlever les signes de ponctuation se trouvant à la fin d'un token\n",
        "                    # car le signe de ponctuation empêche le correcteur de corriger la séquence \n",
        "                    # 'token + signe de ponctuation', même si le token est en effet écrit incorrectement\n",
        "                    # ex: 'jeuneffe,' (avec virgule) > 'jeuneffe' (incorrect)\n",
        "                    # au lieu de 'jeuneffe' (sans virgule) > 'jeunesse' (correct)\n",
        "                    text = re.sub('(?<=\\w)[,;:?!.]', '', text)\n",
        "                    \n",
        "                    a = jsp.FixFragment(text)        \n",
        "                    f.write(a + '\\n')\n",
        "\n",
        "    \n",
        "                    # tokeniser le texte avec le tokeniseur standard (ex: 'l'empire')\n",
        "                    # car celui de pyspellchecker tokenise mal (ex: 'l', 'empire')\n",
        "                    token_list = text.split()\n",
        "                    for t in token_list:\n",
        "                      m_freq = token_list.count(t)\n",
        "                      if t not in a:\n",
        "                        # print(t)\n",
        "                        fout.write(t+'\\t' + jsp.FixFragment(t)+'\\t' + str(m_freq) + ' \\n')"
      ],
      "execution_count": 20,
      "outputs": []
    },
    {
      "cell_type": "code",
      "source": [
        ""
      ],
      "metadata": {
        "id": "EG5wtdt9lkxF"
      },
      "execution_count": null,
      "outputs": []
    }
  ]
}