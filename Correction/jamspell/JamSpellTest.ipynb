{
 "cells": [
  {
   "cell_type": "code",
   "execution_count": 1,
   "metadata": {
    "colab": {
     "base_uri": "https://localhost:8080/"
    },
    "id": "aUmiFaYIXiWu",
    "outputId": "8160e731-3e72-49de-90a9-0ddc96931ee7"
   },
   "outputs": [
    {
     "name": "stdout",
     "output_type": "stream",
     "text": [
      "Requirement already satisfied: jamspell in /Users/ljudmilapetkovic/opt/anaconda3/lib/python3.8/site-packages (0.0.12)\r\n"
     ]
    }
   ],
   "source": [
    "!pip install jamspell"
   ]
  },
  {
   "cell_type": "code",
   "execution_count": 2,
   "metadata": {
    "colab": {
     "base_uri": "https://localhost:8080/"
    },
    "id": "OK1HqdSbXpQ7",
    "outputId": "49c7f2bd-7361-4041-e7c6-f39644c76a27"
   },
   "outputs": [
    {
     "name": "stdout",
     "output_type": "stream",
     "text": [
      "--2021-10-20 17:16:35--  https://github.com/bakwc/JamSpell-models/raw/master/fr.tar.gz\n",
      "Résolution de github.com (github.com)… 140.82.121.3\n",
      "Connexion à github.com (github.com)|140.82.121.3|:443… connecté.\n",
      "requête HTTP transmise, en attente de la réponse… 302 Found\n",
      "Emplacement : https://raw.githubusercontent.com/bakwc/JamSpell-models/master/fr.tar.gz [suivant]\n",
      "--2021-10-20 17:16:35--  https://raw.githubusercontent.com/bakwc/JamSpell-models/master/fr.tar.gz\n",
      "Résolution de raw.githubusercontent.com (raw.githubusercontent.com)… 185.199.110.133, 185.199.111.133, 185.199.109.133, ...\n",
      "Connexion à raw.githubusercontent.com (raw.githubusercontent.com)|185.199.110.133|:443… connecté.\n",
      "requête HTTP transmise, en attente de la réponse… 200 OK\n",
      "Taille : 32421326 (31M) [application/octet-stream]\n",
      "Sauvegarde en : « fr.tar.gz »\n",
      "\n",
      "fr.tar.gz           100%[===================>]  30.92M  4.90MB/s    ds 6.2s    \n",
      "\n",
      "2021-10-20 17:16:42 (4.97 MB/s) — « fr.tar.gz » sauvegardé [32421326/32421326]\n",
      "\n"
     ]
    }
   ],
   "source": [
    "!wget https://github.com/bakwc/JamSpell-models/raw/master/fr.tar.gz"
   ]
  },
  {
   "cell_type": "code",
   "execution_count": 3,
   "metadata": {
    "colab": {
     "base_uri": "https://localhost:8080/"
    },
    "id": "S70BPvsUX7lw",
    "outputId": "253633ae-5ea1-42da-e77c-e7c2ab8876eb"
   },
   "outputs": [
    {
     "name": "stdout",
     "output_type": "stream",
     "text": [
      "x fr.bin\n"
     ]
    }
   ],
   "source": [
    "!tar -xvf fr.tar.gz"
   ]
  },
  {
   "cell_type": "markdown",
   "metadata": {
    "id": "uHwpolmcYXew"
   },
   "source": [
    "**Do restart Colab**\n"
   ]
  },
  {
   "cell_type": "code",
   "execution_count": 4,
   "metadata": {
    "id": "5ZSmLdaRX-FX"
   },
   "outputs": [],
   "source": [
    "import jamspell"
   ]
  },
  {
   "cell_type": "code",
   "execution_count": 5,
   "metadata": {
    "id": "LAZyrWFPYDHF"
   },
   "outputs": [],
   "source": [
    "jsp = jamspell.TSpellCorrector()\n",
    "assert jsp.LoadLangModel('fr.bin')"
   ]
  },
  {
   "cell_type": "code",
   "execution_count": 6,
   "metadata": {
    "id": "NOqWwqBLYTSt"
   },
   "outputs": [],
   "source": [
    "# importer les librairies nécessaires\n",
    "import os, re, glob, csv\n",
    "from lxml import etree\n",
    "\n",
    "\n",
    "    \n",
    "\n",
    "# ignorer les fichiers cachés dans le directoire avec les docs d'entrée (p. ex. le '._5419000_r.xml') \n",
    "def listdir_nohidden(path):\n",
    "    return glob.glob(os.path.join(path, '*'))\n",
    "\n",
    "\n",
    "\n",
    "# spécifier les docs d'entrée (échantillon) à partir desquels les sorties corrigées seront générées\n",
    "directory_in = listdir_nohidden(\"./sample_in/\")\n",
    "\n",
    "\n",
    "# enlever l'extension .xml des fichiers d'entrée \n",
    "for file_in in directory_in:\n",
    "    tree = etree.parse(file_in)\n",
    "    root = tree.getroot()\n",
    "    file_in = os.path.basename(file_in)\n",
    "    file_in = os.path.splitext(file_in)[0]\n",
    "    # print(file_in) # 5419000_r, test\n",
    "    \n",
    " \n",
    "\n",
    "    # créer les nouveaux fichiers .txt sur lesquels les corrections seront appliquées par la suite\n",
    "    file_out = '{}'.format(file_in)+'.txt'\n",
    "    # print(file_out) # 5419000_r.txt, test.txt\n",
    "    directory_out = os.path.join(\"./sample_out/\", file_out)\n",
    "    \n",
    "\n",
    "\n",
    "    \n",
    "    # créer les nouveaux fichiers .csv où les erreurs avec leurs corrections seront enregistrées\n",
    "    corr_out = os.path.join('./csv/', file_in+'.csv')\n",
    "     \n",
    "    \n",
    "#     # les caractères spéciaux à enlever\n",
    "    car_spec = ['■', '•', '%', '*', '#', '+', '^', '\\\\', '$', '>', '<', '£', '{', '}'] \n",
    "    \n",
    "    # générer un tableur .csv où les erreurs, les corrections et les fréquences d'erreurs seront stockées\n",
    "    with open(directory_out, 'w') as f, open(corr_out, 'w') as fout:\n",
    "      writer = csv.writer(fout)\n",
    "      writer.writerow([\"Erreur\"'\\t' \"Correction\"'\\t' \"Fréquence\"'\\t']) \n",
    "        \n",
    "#         # enlever les balises XML afin de transférer le contenu des fichiers .xml dans les fichiers .txt\n",
    "\n",
    "\n",
    "\n",
    "      for elem in root.iter('*'):\n",
    "            if elem.text is not None:\n",
    "                text = elem.text.strip()\n",
    "                if elem.tail is not None:\n",
    "                     text = elem.text.strip() + str(elem.tail) # pour récupérer le texte dans la balise imbriquée\n",
    "                                                               # ex : par le moyen des <hi rend=\"i\">emblèmes</hi>,\n",
    "                if text: \n",
    "                    for c in car_spec:\n",
    "                        text = text.replace(c,'')\n",
    "                    \n",
    "                    \n",
    "                    # pré-traitements\n",
    "                    text = re.sub('&', 'et', text) # l'esperluette '&' signifie 'et'\n",
    "                    text = re.sub('« \\n', '', text) # pour concaténer les mots séparés par un trait d'union \n",
    "                                                    # (sous forme d'un guillemet français ouvert)\n",
    "                    text = re.sub(\" +\", \" \", text)  # réduire les espaces multiples en un seul espace\n",
    "                    text = text.lower() # conversion en minuscules\n",
    "                    text = text.replace(\"\\n\", \" \") # pour que chaque ligne commence depuis le tout début, \n",
    "                                                   # et non pas après un espace\n",
    "                    \n",
    "                    # remplacer le guillemet simple par un guillemet français, pour éviter le problème de parsing \n",
    "                    text = text.replace(\"'\", \"’\") \n",
    "                    \n",
    "                    # effacer l'espace avant certains caractères spéciaux\n",
    "                    text = text.replace(' ,', ',') \n",
    "                    text = text.replace(' .','. ')\n",
    "                    text = text.replace(' :',':')\n",
    "                    text = text.replace(' ;',';')\n",
    "                    text = text.replace(' !','!')\n",
    "                    text = re.sub('\\s\\?','?', text)\n",
    "                    text = text.replace(' \"','\"')\n",
    "                    text = text.replace('( ','(')\n",
    "                    text = text.replace(' )',')') \n",
    "                    text = text.replace(' –','-')\n",
    "                    \n",
    "                    # remplacer les tirets moyens et longs par les tirets courts \n",
    "                    text = text.replace('–', '-') \n",
    "                    \n",
    "                    \n",
    "                    # enlever les signes de ponctuation se trouvant à la fin d'un token\n",
    "                    # car le signe de ponctuation empêche le correcteur de corriger la séquence \n",
    "                    # 'token + signe de ponctuation', même si le token est en effet écrit incorrectement\n",
    "                    # ex: 'jeuneffe,' (avec virgule) > 'jeuneffe' (incorrect)\n",
    "                    # au lieu de 'jeuneffe' (sans virgule) > 'jeunesse' (correct)\n",
    "                    text = re.sub('(?<=\\w)[,;:?!.]', '', text)\n",
    "                    \n",
    "                    a = jsp.FixFragment(text)        \n",
    "                    f.write(a + '\\n')\n",
    "                    # print(a + '\\n')\n",
    "#                     # définir le correcteur d'orthographe français \n",
    "#                     # pyspellchecker\n",
    "#                     # spell = SpellChecker(language='fr')\n",
    "\n",
    "                   \n",
    "                \n",
    "#                     # tokeniser le texte avec le tokeniseur standard (ex: 'l'empire')\n",
    "#                     # car celui de pyspellchecker tokenise mal (ex: 'l', 'empire')\n",
    "                    token_list = text.split()\n",
    "                    for t in token_list:\n",
    "                      m_freq = token_list.count(t)\n",
    "                      if t not in a:\n",
    "                        # print(t)\n",
    "                        fout.write(t+'\\t' + jsp.FixFragment(t)+'\\t' + str(m_freq) + ' \\n')\n",
    "\n",
    "\n",
    "#                     # for t in token_list:\n",
    "#                     # # ne pas corriger les tokens contenant l'apostrophe (ex : l’empire, d’art, s’étend...)\n",
    "#                     # # ne pas corriger les tokens en parenthèses non plus (ex : (1716-1790))\n",
    "#                     #     r1 = re.findall(r\"(l’\\w+|l’\\w+-\\w+|d’\\w+|d’\\w+|qu’\\w+|c’\\w+|n’\\w+|j’\\w+|lorfqu’\\w+|eft|\\w+.*?\\)|\\(.*?.\\)|\\(.*$)\", t)\n",
    "#                     #     spell.word_frequency.load_words(r1)\n",
    "#                     #     a = spell.known(r1)  # les mots {'ex : l’empire, d’art, s’étend'} sont désormais \n",
    "#                     #                          # dans le dictionnaire des mots corrects\n",
    "                        \n",
    "                    \n",
    "                    \n",
    "#                     # corriger les mots incorrects dans le fichier .txt\n",
    "#                     # extraire les erreurs, leurs fréquences et leurs corrections dans un tableur .csv\n",
    "#                     # misspelled = spell.unknown(token_list)\n",
    "                 \n",
    "                    \n",
    "                    \n",
    "#                     # for m in misspelled:\n",
    "#                     #     corrected = spell.correction(m)\n",
    "#                     #     if m in token_list:\n",
    "#                     #         m_freq = token_list.count(m)\n",
    "#                     #         # print(m_freq)\n",
    "#                     #     # print(m, corrected, str(m_freq))\n",
    "#                     #     text = text.replace(m, corrected)\n",
    "#                     #     # f.write(c.replace('clafliques', 'classiques'))\n",
    "\n",
    "                        \n",
    "#                     # print(text)\n",
    "#                     # print(a)\n",
    "#                     f.write(a + \"\\n\")"
   ]
  },
  {
   "cell_type": "code",
   "execution_count": 19,
   "metadata": {
    "colab": {
     "base_uri": "https://localhost:8080/",
     "height": 37
    },
    "id": "_5sXH3G1jvFW",
    "outputId": "c0c10c80-51bd-4684-da29-ed43fdf10e7e"
   },
   "outputs": [
    {
     "data": {
      "text/plain": [
       "'nécessairement'"
      ]
     },
     "execution_count": 19,
     "metadata": {},
     "output_type": "execute_result"
    }
   ],
   "source": [
    "jsp.FixFragment(\"nécefsairement\")"
   ]
  },
  {
   "cell_type": "code",
   "execution_count": null,
   "metadata": {
    "id": "XwVhVRlr7X7y"
   },
   "outputs": [],
   "source": []
  }
 ],
 "metadata": {
  "colab": {
   "collapsed_sections": [],
   "name": "JamSpellTest.ipynb",
   "provenance": []
  },
  "kernelspec": {
   "display_name": "Python 3",
   "language": "python",
   "name": "python3"
  },
  "language_info": {
   "codemirror_mode": {
    "name": "ipython",
    "version": 3
   },
   "file_extension": ".py",
   "mimetype": "text/x-python",
   "name": "python",
   "nbconvert_exporter": "python",
   "pygments_lexer": "ipython3",
   "version": "3.8.8"
  },
  "toc": {
   "base_numbering": 1,
   "nav_menu": {},
   "number_sections": true,
   "sideBar": true,
   "skip_h1_title": false,
   "title_cell": "Table of Contents",
   "title_sidebar": "Contents",
   "toc_cell": false,
   "toc_position": {},
   "toc_section_display": true,
   "toc_window_display": false
  }
 },
 "nbformat": 4,
 "nbformat_minor": 1
}
